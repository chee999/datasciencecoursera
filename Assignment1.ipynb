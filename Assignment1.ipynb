{
  "nbformat": 4,
  "nbformat_minor": 0,
  "metadata": {
    "colab": {
      "name": "Assignment1.ipynb",
      "provenance": [],
      "collapsed_sections": [],
      "include_colab_link": true
    },
    "kernelspec": {
      "name": "python3",
      "display_name": "Python 3"
    }
  },
  "cells": [
    {
      "cell_type": "markdown",
      "metadata": {
        "id": "view-in-github",
        "colab_type": "text"
      },
      "source": [
        "<a href=\"https://colab.research.google.com/github/chee999/datasciencecoursera/blob/master/Assignment1.ipynb\" target=\"_parent\"><img src=\"https://colab.research.google.com/assets/colab-badge.svg\" alt=\"Open In Colab\"/></a>"
      ]
    },
    {
      "cell_type": "code",
      "metadata": {
        "id": "CcFM33zb1PGW",
        "colab_type": "code",
        "outputId": "2afdd314-a085-46a5-e324-7e3d7286c072",
        "colab": {
          "base_uri": "https://localhost:8080/",
          "height": 34
        }
      },
      "source": [
        "from google.colab import drive\n",
        "drive.mount('/content/drive', force_remount=True)"
      ],
      "execution_count": 0,
      "outputs": [
        {
          "output_type": "stream",
          "text": [
            "Mounted at /content/drive\n"
          ],
          "name": "stdout"
        }
      ]
    },
    {
      "cell_type": "code",
      "metadata": {
        "id": "zdZaYEzNqPGO",
        "colab_type": "code",
        "colab": {}
      },
      "source": [
        "import numpy as np\n",
        "import matplotlib.pyplot as plt\n",
        "from pandas import ExcelWriter, ExcelFile, read_excel, DataFrame, concat\n",
        "from openpyxl import load_workbook\n",
        "\n",
        "def readExcelSheet1(excelfile):\n",
        "    return (read_excel(excelfile)).values"
      ],
      "execution_count": 0,
      "outputs": []
    },
    {
      "cell_type": "code",
      "metadata": {
        "id": "x_--Gbj91zW3",
        "colab_type": "code",
        "colab": {}
      },
      "source": [
        "\n",
        "excelfile = '/content/drive/My Drive/Colab Notebooks/weight-height.xlsx'"
      ],
      "execution_count": 0,
      "outputs": []
    },
    {
      "cell_type": "code",
      "metadata": {
        "id": "32kx-rXP1vmi",
        "colab_type": "code",
        "colab": {}
      },
      "source": [
        ""
      ],
      "execution_count": 0,
      "outputs": []
    },
    {
      "cell_type": "code",
      "metadata": {
        "id": "YDkP8Q_V2kc_",
        "colab_type": "code",
        "outputId": "d1294de4-9e19-48d8-e1a0-a51ec561fe75",
        "colab": {
          "base_uri": "https://localhost:8080/",
          "height": 197
        }
      },
      "source": [
        "import os\n",
        "os.chdir('/content/drive/My Drive/Colab Notebook/')\n",
        "data = read_excel(excelfile).values; data\n"
      ],
      "execution_count": 21,
      "outputs": [
        {
          "output_type": "error",
          "ename": "FileNotFoundError",
          "evalue": "ignored",
          "traceback": [
            "\u001b[0;31m---------------------------------------------------------------------------\u001b[0m",
            "\u001b[0;31mFileNotFoundError\u001b[0m                         Traceback (most recent call last)",
            "\u001b[0;32m<ipython-input-21-4898452c0b15>\u001b[0m in \u001b[0;36m<module>\u001b[0;34m()\u001b[0m\n\u001b[1;32m      1\u001b[0m \u001b[0;32mimport\u001b[0m \u001b[0mos\u001b[0m\u001b[0;34m\u001b[0m\u001b[0;34m\u001b[0m\u001b[0m\n\u001b[0;32m----> 2\u001b[0;31m \u001b[0mos\u001b[0m\u001b[0;34m.\u001b[0m\u001b[0mchdir\u001b[0m\u001b[0;34m(\u001b[0m\u001b[0;34m'/content/drive/My Drive/Colab Notebook/'\u001b[0m\u001b[0;34m)\u001b[0m\u001b[0;34m\u001b[0m\u001b[0;34m\u001b[0m\u001b[0m\n\u001b[0m\u001b[1;32m      3\u001b[0m \u001b[0mdata\u001b[0m \u001b[0;34m=\u001b[0m \u001b[0mread_excel\u001b[0m\u001b[0;34m(\u001b[0m\u001b[0mexcelfile\u001b[0m\u001b[0;34m)\u001b[0m\u001b[0;34m.\u001b[0m\u001b[0mvalues\u001b[0m\u001b[0;34m;\u001b[0m \u001b[0mdata\u001b[0m\u001b[0;34m\u001b[0m\u001b[0;34m\u001b[0m\u001b[0m\n",
            "\u001b[0;31mFileNotFoundError\u001b[0m: [Errno 2] No such file or directory: '/content/drive/My Drive/Colab Notebook/'"
          ]
        }
      ]
    },
    {
      "cell_type": "code",
      "metadata": {
        "id": "7lk3TVnj6yB4",
        "colab_type": "code",
        "outputId": "9cfc29c5-99d1-437c-9fbf-82a3553871c1",
        "colab": {
          "base_uri": "https://localhost:8080/",
          "height": 51
        }
      },
      "source": [
        "T = data[:,0]; T"
      ],
      "execution_count": 0,
      "outputs": [
        {
          "output_type": "execute_result",
          "data": {
            "text/plain": [
              "array(['Male', 'Male', 'Male', ..., 'Female', 'Female', 'Female'],\n",
              "      dtype=object)"
            ]
          },
          "metadata": {
            "tags": []
          },
          "execution_count": 9
        }
      ]
    },
    {
      "cell_type": "code",
      "metadata": {
        "id": "EeR9EuLw6AI6",
        "colab_type": "code",
        "colab": {}
      },
      "source": [
        "X = data[:,1]; X\n",
        "X = X.astype(int)"
      ],
      "execution_count": 0,
      "outputs": []
    },
    {
      "cell_type": "code",
      "metadata": {
        "id": "R1GjO1_A6LtN",
        "colab_type": "code",
        "outputId": "c2a43a31-bcef-4328-910f-177ca6093d61",
        "colab": {
          "base_uri": "https://localhost:8080/",
          "height": 34
        }
      },
      "source": [
        "B = 20\n",
        "xmin = np.amin(X)\n",
        "xmax = np.amax(X)\n",
        "[xmin, xmax]"
      ],
      "execution_count": 0,
      "outputs": [
        {
          "output_type": "execute_result",
          "data": {
            "text/plain": [
              "[54, 78]"
            ]
          },
          "metadata": {
            "tags": []
          },
          "execution_count": 100
        }
      ]
    },
    {
      "cell_type": "code",
      "metadata": {
        "id": "jHk7KJaC7Nvj",
        "colab_type": "code",
        "colab": {}
      },
      "source": [
        "def BuildHistograms(X, B, T, Tvalue, xmin, xmax):\n",
        "  H = np.zeros(B).astype(int)\n",
        "  binindices = np.round((B-1)* (X - xmin)/(xmax- xmin)).astype(int)\n",
        "  for i,b in enumerate(binindices):\n",
        "      if T[i] == Tvalue:\n",
        "        H[b]+=1;\n",
        "  return H"
      ],
      "execution_count": 0,
      "outputs": []
    },
    {
      "cell_type": "code",
      "metadata": {
        "id": "Vd__hex172Ye",
        "colab_type": "code",
        "colab": {}
      },
      "source": [
        "HF = BuildHistograms(X, B, T, 'Female', xmin, xmax)"
      ],
      "execution_count": 0,
      "outputs": []
    },
    {
      "cell_type": "code",
      "metadata": {
        "id": "np_RXZD29fNv",
        "colab_type": "code",
        "colab": {}
      },
      "source": [
        "#Build Height Histogram for Males\n",
        "\n"
      ],
      "execution_count": 0,
      "outputs": []
    },
    {
      "cell_type": "code",
      "metadata": {
        "id": "aJ6EkBcEEmG_",
        "colab_type": "code",
        "colab": {}
      },
      "source": [
        "    plt.figure(figsize=(10,5))\n",
        "    opacity = 0.5\n",
        "    [bincenters,binwidth]=np.linspace(xmin, xmax, num=B, retstep=True)\n",
        "    rects1 = plt.bar(bincenters, HM, binwidth,\n",
        "                    alpha=opacity,\n",
        "                    color='pink',\n",
        "                    edgecolor='black',\n",
        "                    )\n",
        "    \n",
        "\n",
        "    \n",
        "    plt.ylabel('Count')\n",
        "    plt.xticks(bincenters, bincenters.astype(int), fontsize=10)\n",
        "    plt.legend()\n",
        "    plt.show()"
      ],
      "execution_count": 0,
      "outputs": []
    },
    {
      "cell_type": "code",
      "metadata": {
        "id": "JbVELZgkFeRD",
        "colab_type": "code",
        "colab": {}
      },
      "source": [
        "### Plot Male and Female Histograms on the SAME Figure For BIN SIZE 20; USE Plot Overlay\n",
        "    plt.figure(figsize=(10,5))\n",
        "    opacity = 0.5\n",
        "    [bincenters,binwidth]=np.linspace(xmin, xmax, num=B, retstep=True)\n",
        "    rects1 = plt.bar(bincenters, HM, binwidth,\n",
        "                    alpha=opacity,\n",
        "                    color='pink',\n",
        "                    edgecolor='black',\n",
        "                    )\n",
        "    ### insert code for female histogram, adjust colours\n",
        "\n",
        "    \n",
        "    plt.ylabel('Count')\n",
        "    plt.xticks(bincenters, bincenters.astype(int), fontsize=10)\n",
        "    plt.legend()\n",
        "    plt.show()"
      ],
      "execution_count": 0,
      "outputs": []
    },
    {
      "cell_type": "code",
      "metadata": {
        "id": "X3bTqRDKGtOs",
        "colab_type": "code",
        "colab": {}
      },
      "source": [
        "### Read Test data from Excel\n",
        "excelfile = '/content/drive/My Drive/Colab Notebooks/Assignment_1_template.xlsx'"
      ],
      "execution_count": 0,
      "outputs": []
    },
    {
      "cell_type": "code",
      "metadata": {
        "id": "bU4n64NbGwl4",
        "colab_type": "code",
        "colab": {}
      },
      "source": [
        "test = read_excel(excelfile).values;\n",
        "Xtest = test[1:, 0]\n",
        "Xtest =Xtest.astype('int')"
      ],
      "execution_count": 0,
      "outputs": []
    },
    {
      "cell_type": "code",
      "metadata": {
        "id": "h1N87LgFd00Q",
        "colab_type": "code",
        "colab": {}
      },
      "source": [
        "def ApplyHistogram(Xtest, HF, HM, minheight, maxheight):\n",
        "  B = len(HF)\n",
        "  binindices = np.clip(np.round((B-1)*(Xtest - minheight)/(maxheight - minheight)).astype(int), 0, B-1)\n",
        "  countF = HF[binindices]\n",
        "  countM  = HM[binindices]\n",
        "  resultlabel = np.full(len(Xtest), 'Indeter', dtype = object)\n",
        "  resultprob = np.full(len(Xtest),  np.nan, dtype = object)\n",
        "  indicesF = countF > countM\n",
        "  indicesM = countM > countF\n",
        "  resultlabel[indicesF] = 'Female'\n",
        "  resultlabel[indicesM] = 'Male'\n",
        "  probF = countF/(countF + countM)\n",
        "  probM = countM/(countF + countM)\n",
        "  resultprob[indicesF] = probF[indicesF]\n",
        "  resultprob[indicesM] = probM[indicesM]\n",
        "  return [resultlabel, resultprob]\n",
        "\n"
      ],
      "execution_count": 0,
      "outputs": []
    },
    {
      "cell_type": "code",
      "metadata": {
        "id": "OznT6s9HGeue",
        "colab_type": "code",
        "colab": {}
      },
      "source": [
        "[GH, PH] = ApplyHistogram(Xtest, HF, HM, xmin, xmax)\n",
        "[GH, PH]"
      ],
      "execution_count": 0,
      "outputs": []
    },
    {
      "cell_type": "code",
      "metadata": {
        "id": "z4o-Nn6XGe0g",
        "colab_type": "code",
        "colab": {}
      },
      "source": [
        "def writeExcelData(x,excelfile,sheetname,startrow,startcol):\n",
        "    df=DataFrame(x)\n",
        "    book = load_workbook(excelfile)\n",
        "    writer = ExcelWriter(excelfile, engine='openpyxl') \n",
        "    writer.book = book\n",
        "    writer.sheets = dict((ws.title, ws) for ws in book.worksheets)\n",
        "    df.to_excel(writer, sheet_name=sheetname,startrow=startrow-1, startcol=startcol-1, header=False, index=False)\n",
        "    writer.save()\n",
        "    writer.close()\n",
        "\n",
        "\n",
        "def closeExcelFile(excelfile):\n",
        "  try: user_email\n",
        "  except NameError: None\n",
        "  else: writeExcelData([user_email], excelfile, 'ID', 2, 1)"
      ],
      "execution_count": 0,
      "outputs": []
    },
    {
      "cell_type": "code",
      "metadata": {
        "id": "QNJ1SX12OTua",
        "colab_type": "code",
        "outputId": "42bb38d3-2e62-4bb9-ff04-f2437fad28fb",
        "colab": {
          "base_uri": "https://localhost:8080/",
          "height": 34
        }
      },
      "source": [
        "excelfile"
      ],
      "execution_count": 0,
      "outputs": [
        {
          "output_type": "execute_result",
          "data": {
            "text/plain": [
              "'/content/drive/My Drive/Colab Notebooks/Assignment_1_template.xlsx'"
            ]
          },
          "metadata": {
            "tags": []
          },
          "execution_count": 98
        }
      ]
    },
    {
      "cell_type": "code",
      "metadata": {
        "id": "03xGmTAyGfEk",
        "colab_type": "code",
        "outputId": "1c32022d-feeb-46ff-ff50-c1303011e93d",
        "colab": {
          "base_uri": "https://localhost:8080/",
          "height": 248
        }
      },
      "source": [
        " ### ADJUST start roe and start column to align with Assignment Template\n",
        " \n",
        " \n",
        " print(\"Please wait. Writing to Excel ...\")\n",
        " writeExcelData(GH,excelfile,'Sheet1',3,5)\n",
        " writeExcelData(PH,excelfile,'Sheet1',3,6)\n",
        " print(\"Written Results with Bin 20\")\n",
        "\n",
        "\n",
        " closeExcelFile(excelfile)\n",
        " print(\"DONE!\")"
      ],
      "execution_count": 0,
      "outputs": [
        {
          "output_type": "stream",
          "text": [
            "Please wait. Writing to Excel ...\n"
          ],
          "name": "stdout"
        },
        {
          "output_type": "error",
          "ename": "NameError",
          "evalue": "ignored",
          "traceback": [
            "\u001b[0;31m---------------------------------------------------------------------------\u001b[0m",
            "\u001b[0;31mNameError\u001b[0m                                 Traceback (most recent call last)",
            "\u001b[0;32m<ipython-input-15-22e679e52885>\u001b[0m in \u001b[0;36m<module>\u001b[0;34m()\u001b[0m\n\u001b[1;32m      2\u001b[0m \u001b[0;34m\u001b[0m\u001b[0m\n\u001b[1;32m      3\u001b[0m \u001b[0mprint\u001b[0m\u001b[0;34m(\u001b[0m\u001b[0;34m\"Please wait. Writing to Excel ...\"\u001b[0m\u001b[0;34m)\u001b[0m\u001b[0;34m\u001b[0m\u001b[0;34m\u001b[0m\u001b[0m\n\u001b[0;32m----> 4\u001b[0;31m \u001b[0mwriteExcelData\u001b[0m\u001b[0;34m(\u001b[0m\u001b[0mGH\u001b[0m\u001b[0;34m,\u001b[0m\u001b[0mexcelfile\u001b[0m\u001b[0;34m,\u001b[0m\u001b[0;34m'Sheet1'\u001b[0m\u001b[0;34m,\u001b[0m\u001b[0;36m3\u001b[0m\u001b[0;34m,\u001b[0m\u001b[0;36m5\u001b[0m\u001b[0;34m)\u001b[0m\u001b[0;34m\u001b[0m\u001b[0;34m\u001b[0m\u001b[0m\n\u001b[0m\u001b[1;32m      5\u001b[0m \u001b[0mwriteExcelData\u001b[0m\u001b[0;34m(\u001b[0m\u001b[0mPH\u001b[0m\u001b[0;34m,\u001b[0m\u001b[0mexcelfile\u001b[0m\u001b[0;34m,\u001b[0m\u001b[0;34m'Sheet1'\u001b[0m\u001b[0;34m,\u001b[0m\u001b[0;36m3\u001b[0m\u001b[0;34m,\u001b[0m\u001b[0;36m6\u001b[0m\u001b[0;34m)\u001b[0m\u001b[0;34m\u001b[0m\u001b[0;34m\u001b[0m\u001b[0m\n\u001b[1;32m      6\u001b[0m \u001b[0mprint\u001b[0m\u001b[0;34m(\u001b[0m\u001b[0;34m\"Written Results with Bin 20\"\u001b[0m\u001b[0;34m)\u001b[0m\u001b[0;34m\u001b[0m\u001b[0;34m\u001b[0m\u001b[0m\n",
            "\u001b[0;31mNameError\u001b[0m: name 'writeExcelData' is not defined"
          ]
        }
      ]
    }
  ]
}